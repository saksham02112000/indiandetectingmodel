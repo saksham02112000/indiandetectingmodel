{
 "cells": [
  {
   "cell_type": "code",
   "execution_count": 1,
   "metadata": {},
   "outputs": [],
   "source": [
    "import numpy as np \n",
    "import matplotlib.pyplot as plt\n",
    "import tensorflow as tf\n",
    "import os\n",
    "import cv2\n",
    "from numpy import save"
   ]
  },
  {
   "cell_type": "code",
   "execution_count": 2,
   "metadata": {},
   "outputs": [
    {
     "name": "stdout",
     "output_type": "stream",
     "text": [
      "indians\n",
      "foreigners\n"
     ]
    }
   ],
   "source": [
    "image_size=64\n",
    "dir = \"/home/saksham/Desktop/cropped/\"  \n",
    "catagories = [\"indians\" , \"foreigners\"]\n",
    "train_data = []\n",
    "for categ in catagories:\n",
    " print(categ) \n",
    " try:\n",
    "     path = os.path.join(dir , categ)  \n",
    "     class_name = catagories.index(categ)\n",
    "     for img in os.listdir(path):\n",
    "          img_array = cv2.imread(os.path.join(path, img), cv2.IMREAD_COLOR)\n",
    "          new_array = cv2.resize(img_array , (image_size , image_size))\n",
    "          train_data.append([new_array , class_name])\n",
    " except Exception as e:\n",
    "     pass\n",
    "    "
   ]
  },
  {
   "cell_type": "code",
   "execution_count": null,
   "metadata": {},
   "outputs": [],
   "source": []
  },
  {
   "cell_type": "code",
   "execution_count": 3,
   "metadata": {},
   "outputs": [],
   "source": [
    "import random\n",
    "random.shuffle(train_data)\n",
    "# print(train_data[1][0])\n",
    "x_train = np.zeros((len(train_data),64,64,3))\n",
    "y_train = np.ndarray((len(train_data),) , int)\n",
    "for i in range(len(train_data)):\n",
    "    x_train[i]=train_data[i][0]\n",
    "    y_train[i]=train_data[i][1]\n"
   ]
  },
  {
   "cell_type": "code",
   "execution_count": 4,
   "metadata": {},
   "outputs": [],
   "source": [
    "x_train = x_train/255\n",
    "save('x_train.npy' , x_train)"
   ]
  },
  {
   "cell_type": "code",
   "execution_count": 5,
   "metadata": {},
   "outputs": [],
   "source": [
    "save('y_train.npy' , y_train)"
   ]
  },
  {
   "cell_type": "code",
   "execution_count": 6,
   "metadata": {},
   "outputs": [
    {
     "data": {
      "text/plain": [
       "(2731, 64, 64, 3)"
      ]
     },
     "execution_count": 6,
     "metadata": {},
     "output_type": "execute_result"
    }
   ],
   "source": [
    "x_train.shape"
   ]
  },
  {
   "cell_type": "code",
   "execution_count": 7,
   "metadata": {},
   "outputs": [
    {
     "data": {
      "text/plain": [
       "(2731,)"
      ]
     },
     "execution_count": 7,
     "metadata": {},
     "output_type": "execute_result"
    }
   ],
   "source": [
    "y_train.shape"
   ]
  },
  {
   "cell_type": "code",
   "execution_count": 8,
   "metadata": {},
   "outputs": [],
   "source": [
    "\n",
    "dir_test = \"/home/saksham/Desktop/cropped/test\"\n",
    "catagorie = [\"indians\" , \"foreigners\"]\n",
    "test_data = []\n",
    "for c in catagorie:\n",
    " try:\n",
    "     path_test = os.path.join(dir_test , c)  \n",
    "     class_name_test = catagorie.index(c)\n",
    "     for img_test in os.listdir(path_test):\n",
    "          img_array_test = cv2.imread(os.path.join(path_test, img_test) , cv2.IMREAD_COLOR)\n",
    "          new_array_test = cv2.resize(img_array_test , (image_size , image_size))\n",
    "          test_data.append([new_array_test , class_name_test])\n",
    " except Exception as e_test:\n",
    "     pass\n",
    "\n",
    "random.shuffle(test_data)\n",
    "x_test = np.zeros((len(test_data),64,64,3))\n",
    "y_test = np.ndarray((len(test_data),) , int)\n",
    "for i in range(len(test_data)):\n",
    "    x_test[i]=test_data[i][0]\n",
    "    y_test[i]=test_data[i][1]\n",
    "x_test = x_test/255\n"
   ]
  },
  {
   "cell_type": "code",
   "execution_count": 9,
   "metadata": {},
   "outputs": [],
   "source": [
    "save('x_test.npy' , x_test)\n",
    "save('y_test.npy' , y_test)"
   ]
  },
  {
   "cell_type": "code",
   "execution_count": 10,
   "metadata": {},
   "outputs": [],
   "source": [
    "from tensorflow import keras"
   ]
  },
  {
   "cell_type": "code",
   "execution_count": 11,
   "metadata": {},
   "outputs": [],
   "source": [
    "model = tf.keras.Sequential([tf.keras.layers.Conv2D(16 , (3,3) ,activation='relu', input_shape=(64,64,3)) ,\n",
    "                             tf.keras.layers.BatchNormalization(),\n",
    "                             tf.keras.layers.MaxPool2D((2,2)),\n",
    "                             tf.keras.layers.Dropout(0.25),\n",
    "\n",
    "                             tf.keras.layers.Conv2D(32,(3,3) ,activation='relu' ),\n",
    "                             tf.keras.layers.BatchNormalization(),\n",
    "                             tf.keras.layers.MaxPool2D((2,2)),\n",
    "                             tf.keras.layers.Dropout(0.25),\n",
    "\n",
    "                             tf.keras.layers.Conv2D(64 , (3,3) , activation='relu'),\n",
    "                             tf.keras.layers.Flatten(),\n",
    "                             tf.keras.layers.Dense(128 , activation='relu'),\n",
    "                             tf.keras.layers.BatchNormalization(),\n",
    "                             tf.keras.layers.Dropout(0.5),\n",
    "                             tf.keras.layers.Dense(1 , activation='sigmoid')])"
   ]
  },
  {
   "cell_type": "code",
   "execution_count": 12,
   "metadata": {},
   "outputs": [],
   "source": [
    "model.compile(optimizer='adam',\n",
    "                loss=tf.keras.losses.BinaryCrossentropy(from_logits=True),\n",
    "                metrics=['accuracy'])"
   ]
  },
  {
   "cell_type": "code",
   "execution_count": 13,
   "metadata": {},
   "outputs": [
    {
     "data": {
      "text/plain": [
       "(2731, 64, 64, 3)"
      ]
     },
     "execution_count": 13,
     "metadata": {},
     "output_type": "execute_result"
    }
   ],
   "source": [
    "x_train.shape"
   ]
  },
  {
   "cell_type": "code",
   "execution_count": 14,
   "metadata": {},
   "outputs": [
    {
     "data": {
      "text/plain": [
       "(462, 64, 64, 3)"
      ]
     },
     "execution_count": 14,
     "metadata": {},
     "output_type": "execute_result"
    }
   ],
   "source": [
    "x_test.shape"
   ]
  },
  {
   "cell_type": "code",
   "execution_count": 15,
   "metadata": {},
   "outputs": [
    {
     "name": "stdout",
     "output_type": "stream",
     "text": [
      "Epoch 1/30\n",
      "86/86 [==============================] - 9s 91ms/step - loss: 0.7275 - accuracy: 0.6825\n",
      "Epoch 2/30\n",
      "86/86 [==============================] - 9s 106ms/step - loss: 0.4563 - accuracy: 0.7958\n",
      "Epoch 3/30\n",
      "86/86 [==============================] - 10s 117ms/step - loss: 0.4492 - accuracy: 0.7952\n",
      "Epoch 4/30\n",
      "86/86 [==============================] - 10s 122ms/step - loss: 0.3754 - accuracy: 0.8333\n",
      "Epoch 5/30\n",
      "86/86 [==============================] - 8s 93ms/step - loss: 0.3377 - accuracy: 0.8425\n",
      "Epoch 6/30\n",
      "86/86 [==============================] - 11s 132ms/step - loss: 0.3091 - accuracy: 0.8685\n",
      "Epoch 7/30\n",
      "86/86 [==============================] - 10s 118ms/step - loss: 0.2821 - accuracy: 0.8868\n",
      "Epoch 8/30\n",
      "86/86 [==============================] - 11s 133ms/step - loss: 0.2552 - accuracy: 0.9024\n",
      "Epoch 9/30\n",
      "86/86 [==============================] - 11s 130ms/step - loss: 0.2377 - accuracy: 0.9016\n",
      "Epoch 10/30\n",
      "86/86 [==============================] - 11s 132ms/step - loss: 0.2287 - accuracy: 0.9055\n",
      "Epoch 11/30\n",
      "86/86 [==============================] - 10s 119ms/step - loss: 0.2415 - accuracy: 0.9008\n",
      "Epoch 12/30\n",
      "86/86 [==============================] - 10s 118ms/step - loss: 0.1983 - accuracy: 0.9271\n",
      "Epoch 13/30\n",
      "86/86 [==============================] - 11s 128ms/step - loss: 0.1558 - accuracy: 0.9447\n",
      "Epoch 14/30\n",
      "86/86 [==============================] - 11s 126ms/step - loss: 0.1828 - accuracy: 0.9302\n",
      "Epoch 15/30\n",
      "86/86 [==============================] - 16s 185ms/step - loss: 0.1540 - accuracy: 0.9415\n",
      "Epoch 16/30\n",
      "86/86 [==============================] - 13s 150ms/step - loss: 0.1394 - accuracy: 0.9514\n",
      "Epoch 17/30\n",
      "86/86 [==============================] - 10s 119ms/step - loss: 0.1389 - accuracy: 0.9410\n",
      "Epoch 18/30\n",
      "86/86 [==============================] - 11s 124ms/step - loss: 0.1463 - accuracy: 0.9399\n",
      "Epoch 19/30\n",
      "86/86 [==============================] - 10s 119ms/step - loss: 0.1265 - accuracy: 0.9530\n",
      "Epoch 20/30\n",
      "86/86 [==============================] - 9s 102ms/step - loss: 0.1123 - accuracy: 0.9525\n",
      "Epoch 21/30\n",
      "86/86 [==============================] - 9s 103ms/step - loss: 0.1586 - accuracy: 0.9373\n",
      "Epoch 22/30\n",
      "86/86 [==============================] - 9s 101ms/step - loss: 0.1424 - accuracy: 0.9472\n",
      "Epoch 23/30\n",
      "86/86 [==============================] - 9s 102ms/step - loss: 0.1110 - accuracy: 0.9578\n",
      "Epoch 24/30\n",
      "86/86 [==============================] - 9s 100ms/step - loss: 0.1059 - accuracy: 0.9620\n",
      "Epoch 25/30\n",
      "86/86 [==============================] - 9s 101ms/step - loss: 0.1087 - accuracy: 0.9530\n",
      "Epoch 26/30\n",
      "86/86 [==============================] - 10s 112ms/step - loss: 0.1049 - accuracy: 0.9549\n",
      "Epoch 27/30\n",
      "86/86 [==============================] - 9s 101ms/step - loss: 0.0706 - accuracy: 0.9757\n",
      "Epoch 28/30\n",
      "86/86 [==============================] - 9s 103ms/step - loss: 0.0916 - accuracy: 0.9657\n",
      "Epoch 29/30\n",
      "86/86 [==============================] - 9s 101ms/step - loss: 0.0750 - accuracy: 0.9733\n",
      "Epoch 30/30\n",
      "86/86 [==============================] - 9s 100ms/step - loss: 0.1014 - accuracy: 0.9602\n"
     ]
    },
    {
     "data": {
      "text/plain": [
       "<tensorflow.python.keras.callbacks.History at 0x7ff9871af070>"
      ]
     },
     "execution_count": 15,
     "metadata": {},
     "output_type": "execute_result"
    }
   ],
   "source": [
    "model.fit(x_train , y_train , epochs=30)"
   ]
  },
  {
   "cell_type": "code",
   "execution_count": 16,
   "metadata": {},
   "outputs": [
    {
     "name": "stdout",
     "output_type": "stream",
     "text": [
      "15/15 - 0s - loss: 0.7055 - accuracy: 0.8160\n"
     ]
    }
   ],
   "source": [
    "loss_test , acc_test = model.evaluate(x_test,y_test , verbose=2)"
   ]
  },
  {
   "cell_type": "code",
   "execution_count": null,
   "metadata": {},
   "outputs": [],
   "source": []
  },
  {
   "cell_type": "code",
   "execution_count": null,
   "metadata": {},
   "outputs": [],
   "source": []
  },
  {
   "cell_type": "code",
   "execution_count": 17,
   "metadata": {},
   "outputs": [
    {
     "data": {
      "text/plain": [
       "<matplotlib.image.AxesImage at 0x7f2290139df0>"
      ]
     },
     "execution_count": 17,
     "metadata": {},
     "output_type": "execute_result"
    },
    {
     "data": {
      "image/png": "[encoded data removed]",
      "text/plain": [
       "<Figure size 432x288 with 1 Axes>"
      ]
     },
     "metadata": {
      "needs_background": "light"
     },
     "output_type": "display_data"
    }
   ],
   "source": [
    "plt.imshow(x_train[1500])"
   ]
  },
  {
   "cell_type": "code",
   "execution_count": 18,
   "metadata": {},
   "outputs": [],
   "source": [
    "predictions=model.predict(x_train)"
   ]
  },
  {
   "cell_type": "code",
   "execution_count": 19,
   "metadata": {},
   "outputs": [
    {
     "data": {
      "text/plain": [
       "array([0.0046854], dtype=float32)"
      ]
     },
     "execution_count": 19,
     "metadata": {},
     "output_type": "execute_result"
    }
   ],
   "source": [
    "predictions[0]"
   ]
  },
  {
   "cell_type": "code",
   "execution_count": null,
   "metadata": {},
   "outputs": [],
   "source": []
  },
  {
   "cell_type": "code",
   "execution_count": null,
   "metadata": {},
   "outputs": [],
   "source": []
  },
  {
   "cell_type": "code",
   "execution_count": null,
   "metadata": {},
   "outputs": [],
   "source": []
  },
  {
   "cell_type": "code",
   "execution_count": null,
   "metadata": {},
   "outputs": [],
   "source": []
  },
  {
   "cell_type": "code",
   "execution_count": null,
   "metadata": {},
   "outputs": [],
   "source": []
  }
 ],
 "metadata": {
  "kernelspec": {
   "display_name": "Python 3",
   "language": "python",
   "name": "python3"
  },
  "language_info": {
   "codemirror_mode": {
    "name": "ipython",
    "version": 3
   },
   "file_extension": ".py",
   "mimetype": "text/x-python",
   "name": "python",
   "nbconvert_exporter": "python",
   "pygments_lexer": "ipython3",
   "version": "3.8.5"
  }
 },
 "nbformat": 4,
 "nbformat_minor": 2
}
